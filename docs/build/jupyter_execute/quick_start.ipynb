{
 "cells": [
  {
   "cell_type": "markdown",
   "metadata": {
    "collapsed": true,
    "pycharm": {
     "name": "#%% md\n"
    }
   },
   "source": [
    "# Quick Start"
   ]
  },
  {
   "cell_type": "markdown",
   "metadata": {
    "collapsed": false,
    "pycharm": {
     "name": "#%% md\n"
    }
   },
   "source": [
    "### Installation\n",
    "\n",
    "```bash\n",
    "https://github.com/zhqu1148980644/pyflow.git\n",
    "cd pyflow && pip install ./\n",
    "```\n",
    "\n",
    "### Main concepts\n",
    "\n",
    "For users who are familiar with nextflow usages can skip this part, other's can also check\n",
    "[this](https://www.nextflow.io/docs/edge/basic.html) for similar descriptions that comes from the introduction\n",
    "section of the nextflow documentation.\n",
    "\n",
    "Basically there are several components that are exposed to users for building and configuring workflows.\n",
    "\n",
    "##### Task\n",
    "`Task` is the object represents the execution unit in your workflow. Tasks runs in parallel for different inputs.\n",
    "\n",
    "##### Flow\n",
    "`Flow` is the object that combines and records dependencies of all tasks you have put in. After it's been\n",
    "defined, it should be passed to `FlowRunner` for the actual dependency building and flow execution.\n",
    "\n",
    "##### Channel\n",
    "`Channel` represents a flow/queue of data, it's consumed by Tasks. Any user defined data should be\n",
    "enqueued into a channel and then as arguments of Task/Flow.\n",
    "\n",
    "##### Operator\n",
    "`Operator` is built-in tasks that helps to manipulate the control of channels.\n",
    "\n",
    "- For example: `map, sum, count, collect, flatten....`\n",
    "\n",
    "### A Typical workflow\n",
    "\n",
    "The workflow defined below covers most sets of features supported by pyflow.\n",
    "\n",
    "- Note: the output of the workflow may be different in different runs, this is\n",
    "due to the parallelism of task's executions for different inputs."
   ]
  },
  {
   "cell_type": "code",
   "execution_count": 1,
   "metadata": {
    "collapsed": false,
    "pycharm": {
     "name": "#%%\n"
    }
   },
   "outputs": [
    {
     "data": {
      "text/html": [
       "<pre style=\"white-space:pre;overflow-x:auto;line-height:normal;font-family:Menlo,'DejaVu Sans Mono',consolas,'Courier New',monospace\">Your config is: \n",
       "<span style=\"font-weight: bold\">{</span>\n",
       "    <span style=\"color: #008000; text-decoration-color: #008000\">'_Context__flow_stack'</span>: <span style=\"font-weight: bold\">[]</span>,\n",
       "    <span style=\"color: #008000; text-decoration-color: #008000\">'_Context__env_tasks'</span>: <span style=\"font-weight: bold\">{}</span>,\n",
       "    <span style=\"color: #008000; text-decoration-color: #008000\">'_flow_stack'</span>: <span style=\"font-weight: bold\">[]</span>,\n",
       "    <span style=\"color: #008000; text-decoration-color: #008000\">'cpu'</span>: <span style=\"color: #008080; text-decoration-color: #008080; font-weight: bold\">8</span>,\n",
       "    <span style=\"font-weight: bold\">&lt;</span><span style=\"color: #ff00ff; text-decoration-color: #ff00ff; font-weight: bold\">class</span><span style=\"color: #000000; text-decoration-color: #000000\"> </span><span style=\"color: #008000; text-decoration-color: #008000\">'flowsaber.core.task.Task'</span><span style=\"font-weight: bold\">&gt;</span>: <span style=\"font-weight: bold\">{</span><span style=\"color: #008000; text-decoration-color: #008000\">'executor'</span>: <span style=\"color: #008000; text-decoration-color: #008000\">'local'</span><span style=\"font-weight: bold\">}</span>\n",
       "<span style=\"font-weight: bold\">}</span>\n",
       "</pre>\n"
      ],
      "text/plain": [
       "<rich.jupyter.JupyterRenderable at 0x7f98324f9e80>"
      ]
     },
     "metadata": {},
     "output_type": "display_data"
    },
    {
     "data": {
      "application/vnd.jupyter.widget-view+json": {
       "model_id": "9bbead8de74f40e19e32ff4e65d4d13e",
       "version_major": 2,
       "version_minor": 0
      },
      "text/plain": [
       "Output()"
      ]
     },
     "metadata": {},
     "output_type": "display_data"
    },
    {
     "data": {
      "image/png": "[encoded data removed]",
      "text/plain": [
       "<Figure size 432x288 with 1 Axes>"
      ]
     },
     "metadata": {
      "filenames": {
       "image/png": "/Users/bakezq/Desktop/workspace/pyflow/docs/build/jupyter_execute/quick_start_2_2.png"
      },
      "needs_background": "light"
     },
     "output_type": "display_data"
    }
   ],
   "source": [
    "import sys\n",
    "\n",
    "import matplotlib.image as mpimg\n",
    "import matplotlib.pyplot as plt\n",
    "\n",
    "sys.path.insert(0, '../../')\n",
    "from flowsaber import *\n",
    "\n",
    "\n",
    "@task\n",
    "def add(self, num):  # self is optional\n",
    "    return num + 1\n",
    "\n",
    "\n",
    "@task\n",
    "def multiply(num1, num2):\n",
    "    return num1 * num2\n",
    "\n",
    "\n",
    "@shell\n",
    "def write(num):\n",
    "    \"\"\"echo {num} > 1.txt\"\"\"\n",
    "    return '*.txt'\n",
    "\n",
    "\n",
    "@task\n",
    "def read(f: File):\n",
    "    return open(str(f)).readlines()\n",
    "\n",
    "\n",
    "@flow\n",
    "def sub_flow(num):\n",
    "    return add(num) | map_(lambda x: x ** 2) | add\n",
    "\n",
    "\n",
    "@flow\n",
    "def my_flow(num):\n",
    "    [sub_flow(num), sub_flow(num)] | multiply \\\n",
    "    | write | read | flatten \\\n",
    "    | map_(lambda x: int(x.strip())) \\\n",
    "    | view\n",
    "\n",
    "\n",
    "config.update({\n",
    "    'cpu': 8,\n",
    "    Task: {\n",
    "        'executor': 'local'  # for test, use simple one\n",
    "    }\n",
    "})\n",
    "\n",
    "# set input\n",
    "num_ch = Channel.values(1, 2, 3)\n",
    "# resolve dependencies\n",
    "runner, workflow = FlowRunner(my_flow).run(num=num_ch)\n",
    "# now can generate dag\n",
    "workflow.graph.render('workflow', view=False, format='png', cleanup=True)\n",
    "# truly run the flow\n",
    "await runner.aexecute()\n",
    "\n",
    "# visualize the flow\n",
    "\n",
    "img = mpimg.imread('workflow.png')\n",
    "imgplot = plt.imshow(img)\n",
    "plt.show(block=False)"
   ]
  },
  {
   "cell_type": "code",
   "execution_count": 1,
   "metadata": {
    "collapsed": false,
    "pycharm": {
     "name": "#%%\n"
    }
   },
   "outputs": [],
   "source": []
  }
 ],
 "metadata": {
  "kernelspec": {
   "display_name": "Python 3",
   "language": "python",
   "name": "python3"
  },
  "language_info": {
   "codemirror_mode": {
    "name": "ipython",
    "version": 3
   },
   "file_extension": ".py",
   "mimetype": "text/x-python",
   "name": "python",
   "nbconvert_exporter": "python",
   "pygments_lexer": "ipython3",
   "version": "3.8.5"
  },
  "widgets": {
   "application/vnd.jupyter.widget-state+json": {
    "state": {
     "24ba4246458c4f52a3b9d41d27586e05": {
      "model_module": "@jupyter-widgets/base",
      "model_module_version": "1.2.0",
      "model_name": "LayoutModel",
      "state": {
       "_model_module": "@jupyter-widgets/base",
       "_model_module_version": "1.2.0",
       "_model_name": "LayoutModel",
       "_view_count": null,
       "_view_module": "@jupyter-widgets/base",
       "_view_module_version": "1.2.0",
       "_view_name": "LayoutView",
       "align_content": null,
       "align_items": null,
       "align_self": null,
       "border": null,
       "bottom": null,
       "display": null,
       "flex": null,
       "flex_flow": null,
       "grid_area": null,
       "grid_auto_columns": null,
       "grid_auto_flow": null,
       "grid_auto_rows": null,
       "grid_column": null,
       "grid_gap": null,
       "grid_row": null,
       "grid_template_areas": null,
       "grid_template_columns": null,
       "grid_template_rows": null,
       "height": null,
       "justify_content": null,
       "justify_items": null,
       "left": null,
       "margin": null,
       "max_height": null,
       "max_width": null,
       "min_height": null,
       "min_width": null,
       "object_fit": null,
       "object_position": null,
       "order": null,
       "overflow": null,
       "overflow_x": null,
       "overflow_y": null,
       "padding": null,
       "right": null,
       "top": null,
       "visibility": null,
       "width": null
      }
     },
     "9bbead8de74f40e19e32ff4e65d4d13e": {
      "model_module": "@jupyter-widgets/output",
      "model_module_version": "1.0.0",
      "model_name": "OutputModel",
      "state": {
       "_dom_classes": [],
       "_model_module": "@jupyter-widgets/output",
       "_model_module_version": "1.0.0",
       "_model_name": "OutputModel",
       "_view_count": null,
       "_view_module": "@jupyter-widgets/output",
       "_view_module_version": "1.0.0",
       "_view_name": "OutputView",
       "layout": "IPY_MODEL_24ba4246458c4f52a3b9d41d27586e05",
       "msg_id": "",
       "outputs": [
        {
         "data": {
          "text/html": "<pre style=\"white-space:pre;overflow-x:auto;line-height:normal;font-family:Menlo,'DejaVu Sans Mono',consolas,'Courier New',monospace\">       <span style=\"color: #000080; text-decoration-color: #000080; font-weight: bold\">Add(Task)[140291655797728]</span> <span style=\"color: #729c1f; text-decoration-color: #729c1f\">━━━━━━━━━━━━━━━━━━━━━━━</span> <span style=\"color: #800080; text-decoration-color: #800080\">100.0%</span> • 0 ⌛ • 0   • 3 ✓ | <span style=\"color: #808000; text-decoration-color: #808000\">0:00:02</span>\n       <span style=\"color: #000080; text-decoration-color: #000080; font-weight: bold\">Add(Task)[140291655833440]</span> <span style=\"color: #729c1f; text-decoration-color: #729c1f\">━━━━━━━━━━━━━━━━━━━━━━━</span> <span style=\"color: #800080; text-decoration-color: #800080\">100.0%</span> • 0 ⌛ • 0   • 3 ✓ | <span style=\"color: #808000; text-decoration-color: #808000\">0:00:02</span>\n       <span style=\"color: #000080; text-decoration-color: #000080; font-weight: bold\">Add(Task)[140291655832096]</span> <span style=\"color: #729c1f; text-decoration-color: #729c1f\">━━━━━━━━━━━━━━━━━━━━━━━</span> <span style=\"color: #800080; text-decoration-color: #800080\">100.0%</span> • 0 ⌛ • 0   • 3 ✓ | <span style=\"color: #808000; text-decoration-color: #808000\">0:00:02</span>\n       <span style=\"color: #000080; text-decoration-color: #000080; font-weight: bold\">Add(Task)[140291655834160]</span> <span style=\"color: #729c1f; text-decoration-color: #729c1f\">━━━━━━━━━━━━━━━━━━━━━━━</span> <span style=\"color: #800080; text-decoration-color: #800080\">100.0%</span> • 0 ⌛ • 0   • 3 ✓ | <span style=\"color: #808000; text-decoration-color: #808000\">0:00:02</span>\n  <span style=\"color: #000080; text-decoration-color: #000080; font-weight: bold\">Multiply(Task)[140291655834208]</span> <span style=\"color: #729c1f; text-decoration-color: #729c1f\">━━━━━━━━━━━━━━━━━━━━━━━</span> <span style=\"color: #800080; text-decoration-color: #800080\">100.0%</span> • 0 ⌛ • 0   • 3 ✓ | <span style=\"color: #808000; text-decoration-color: #808000\">0:00:02</span>\n<span style=\"color: #000080; text-decoration-color: #000080; font-weight: bold\">Write(ShellTask)[140291655868768]</span> <span style=\"color: #729c1f; text-decoration-color: #729c1f\">━━━━━━━━━━━━━━━━━━━━━━━</span> <span style=\"color: #800080; text-decoration-color: #800080\">100.0%</span> • 0 ⌛ • 0   • 3 ✓ | <span style=\"color: #808000; text-decoration-color: #808000\">0:00:02</span>\n      <span style=\"color: #000080; text-decoration-color: #000080; font-weight: bold\">Read(Task)[140291655869536]</span> <span style=\"color: #3a3a3a; text-decoration-color: #3a3a3a\">━━━━━━━━━━━━━━━━━━━━━━━</span> <span style=\"color: #800080; text-decoration-color: #800080\">0.0%</span>   • 0 ⌛ • 3 <span style=\"color: #008000; text-decoration-color: #008000\">⠴</span> • 0 ✓ | <span style=\"color: #808000; text-decoration-color: #808000\">0:00:01</span>\n</pre>\n",
          "text/plain": "<rich.jupyter.JupyterRenderable at 0x7f9834d74880>"
         },
         "metadata": {},
         "output_type": "display_data"
        }
       ]
      }
     }
    },
    "version_major": 2,
    "version_minor": 0
   }
  }
 },
 "nbformat": 4,
 "nbformat_minor": 0
}