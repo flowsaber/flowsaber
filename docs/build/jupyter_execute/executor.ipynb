{
 "cells": [
  {
   "cell_type": "markdown",
   "metadata": {
    "collapsed": false,
    "pycharm": {
     "name": "#%% md\n"
    }
   },
   "source": [
    "# Executor\n",
    "\n",
    "### Local\n",
    "\n",
    "All jobs run in local event loop, mainly used for debugging\n",
    "\n",
    "\n",
    "### Process\n",
    "\n",
    "Jobs are run in different processes.\n",
    "\n",
    "\n",
    "### Ray\n",
    "\n",
    "The same as `Process` executor, besides run in a single machines, it's possible to run in different\n",
    "machines or even cloud services by carefully configuring `Ray`. Check the offical documentation for details."
   ]
  }
 ],
 "metadata": {
  "kernelspec": {
   "display_name": "Python 3",
   "language": "python",
   "name": "python3"
  },
  "language_info": {
   "codemirror_mode": {
    "name": "ipython",
    "version": 2
   },
   "file_extension": ".py",
   "mimetype": "text/x-python",
   "name": "python",
   "nbconvert_exporter": "python",
   "pygments_lexer": "ipython2",
   "version": "2.7.6"
  }
 },
 "nbformat": 4,
 "nbformat_minor": 0
}