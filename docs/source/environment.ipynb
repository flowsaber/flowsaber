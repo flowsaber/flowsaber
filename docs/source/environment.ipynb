{
 "cells": [
  {
   "cell_type": "markdown",
   "metadata": {
    "collapsed": true,
    "pycharm": {
     "name": "#%% md\n"
    }
   },
   "source": [
    "# Executor\n",
    "\n",
    "\n",
    "ShellTask support several options to enable the bash script run within specific environments.\n",
    "\n",
    "### Conda\n",
    "\n",
    "- `conda=\"bwa samtools\"`\n",
    "- `conda=\"env.yaml\"`\n",
    "- `conda=\"path/to/environment\"`\n",
    "\n",
    "\n",
    "### Singularity\n",
    "\n",
    "- `image=\"docker://bioconda\"`\n",
    "\n",
    "\n",
    "### Example\n",
    "\n",
    "```python\n",
    "@shell(conda='bwa', image='docker://ubuntu')\n",
    "def bwa_map(fa, fastq):\n",
    "    ...\n",
    "```"
   ]
  }
 ],
 "metadata": {
  "kernelspec": {
   "display_name": "Python 3",
   "language": "python",
   "name": "python3"
  },
  "language_info": {
   "codemirror_mode": {
    "name": "ipython",
    "version": 2
   },
   "file_extension": ".py",
   "mimetype": "text/x-python",
   "name": "python",
   "nbconvert_exporter": "python",
   "pygments_lexer": "ipython2",
   "version": "2.7.6"
  }
 },
 "nbformat": 4,
 "nbformat_minor": 0
}